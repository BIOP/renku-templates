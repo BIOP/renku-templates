{
 "cells": [
  {
   "cell_type": "code",
   "execution_count": 29,
   "id": "e0fa55a3-e796-484b-97a5-df2c0704f1b7",
   "metadata": {},
   "outputs": [],
   "source": [
    "import ezomero\n",
    "import getpass\n",
    "import numpy"
   ]
  },
  {
   "cell_type": "markdown",
   "id": "0cc9f65d-0c44-4594-884a-8057b5f97d65",
   "metadata": {},
   "source": [
    "# Define User"
   ]
  },
  {
   "cell_type": "code",
   "execution_count": 12,
   "id": "1468e323-19a9-4146-ba46-3db4ca603c24",
   "metadata": {},
   "outputs": [
    {
     "name": "stdin",
     "output_type": "stream",
     "text": [
      "Password:  ··············\n"
     ]
    }
   ],
   "source": [
    "user = \"guiet\"\n",
    "password = getpass.getpass(prompt='Password: ', stream=None)\n"
   ]
  },
  {
   "cell_type": "markdown",
   "id": "41a55c86-db8c-4e4b-b68c-f68fbe4f7bce",
   "metadata": {},
   "source": [
    "# Open a connexion"
   ]
  },
  {
   "cell_type": "code",
   "execution_count": 15,
   "id": "34ec23e2-24d9-4299-9405-ea7d3af7037c",
   "metadata": {},
   "outputs": [],
   "source": [
    "conn = ezomero.connect(user , \n",
    "                       password,\n",
    "                       host=\"omero-server.epfl.ch\" , \n",
    "                       port=\"4064\" , \n",
    "                       group=\"\" ,\n",
    "                       secure=True)"
   ]
  },
  {
   "cell_type": "markdown",
   "id": "e7f64ea4-a854-4cfe-bba4-0d97b4e2a3ae",
   "metadata": {},
   "source": [
    "# Define image_id"
   ]
  },
  {
   "cell_type": "code",
   "execution_count": 17,
   "id": "303d0fea-c97b-4489-b6ab-8a1e2c0a4b77",
   "metadata": {},
   "outputs": [],
   "source": [
    "image_id = 199153"
   ]
  },
  {
   "cell_type": "code",
   "execution_count": 22,
   "id": "97260896-8850-451f-ba67-dd59c77ac520",
   "metadata": {},
   "outputs": [],
   "source": [
    "im_object, im_array = ezomero.get_image(conn, image_id)"
   ]
  },
  {
   "cell_type": "code",
   "execution_count": 23,
   "id": "102d0ab7-4b79-49fe-a5a9-3b062b80f508",
   "metadata": {},
   "outputs": [
    {
     "data": {
      "text/plain": [
       "199153"
      ]
     },
     "execution_count": 23,
     "metadata": {},
     "output_type": "execute_result"
    }
   ],
   "source": [
    "im_object.getId()"
   ]
  },
  {
   "cell_type": "code",
   "execution_count": 30,
   "id": "79d1b2ba-8fea-434d-959d-1b685f50d1cc",
   "metadata": {},
   "outputs": [
    {
     "data": {
      "text/plain": [
       "(1, 1, 512, 512, 3)"
      ]
     },
     "execution_count": 30,
     "metadata": {},
     "output_type": "execute_result"
    }
   ],
   "source": [
    "numpy.shape(im_array)"
   ]
  },
  {
   "cell_type": "markdown",
   "id": "4cc4a1a4-36c9-4fbf-8e99-cc678d7a78b3",
   "metadata": {},
   "source": [
    "# Please don't forget to close your connection"
   ]
  },
  {
   "cell_type": "code",
   "execution_count": null,
   "id": "6a9019aa-42c0-4303-9ef7-f5afabd71e87",
   "metadata": {},
   "outputs": [],
   "source": [
    "conn.close()"
   ]
  }
 ],
 "metadata": {
  "kernelspec": {
   "display_name": "Python 3 (ipykernel)",
   "language": "python",
   "name": "python3"
  },
  "language_info": {
   "codemirror_mode": {
    "name": "ipython",
    "version": 3
   },
   "file_extension": ".py",
   "mimetype": "text/x-python",
   "name": "python",
   "nbconvert_exporter": "python",
   "pygments_lexer": "ipython3",
   "version": "3.9.7"
  }
 },
 "nbformat": 4,
 "nbformat_minor": 5
}
