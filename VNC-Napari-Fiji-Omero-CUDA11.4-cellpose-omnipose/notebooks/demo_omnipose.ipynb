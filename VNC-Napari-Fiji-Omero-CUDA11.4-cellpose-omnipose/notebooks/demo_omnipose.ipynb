{
 "cells": [
  {
   "cell_type": "markdown",
   "id": "587b0318",
   "metadata": {},
   "source": [
    "# Minimal omnipose demo on Bacteria\n",
    "\n",
    "In this notebook we will :\n",
    "- Download an image of bacteria from an article [https://doi.org/10.1371/journal.pone.0058972 ]\n",
    "- Segment bacteria on this image (eg create labels) using omnipose [http://www.cellpose.org/omnipose ]\n",
    "- Display the image and its omnipose_labels in napari.\n"
   ]
  },
  {
   "cell_type": "markdown",
   "id": "e3c823ba",
   "metadata": {},
   "source": [
    "To do so, you should open this notebook from the VNC (new launcher > VNC , and a RENKU desktop should pop-up).\n",
    "\n",
    "In the RENKU deskstop, you can start a terminal, type 'jupyter notebook', open this notebook!"
   ]
  },
  {
   "cell_type": "code",
   "execution_count": 6,
   "id": "b1710fb0",
   "metadata": {},
   "outputs": [],
   "source": [
    "# we need to import some packages\n",
    "from skimage.io import imread , imsave\n",
    "import napari"
   ]
  },
  {
   "cell_type": "code",
   "execution_count": 7,
   "id": "d3467545",
   "metadata": {},
   "outputs": [],
   "source": [
    "# define the path to the data folder\n",
    "data_path = '../data/'\n",
    "# define the url of an image that we'll use\n",
    "bacteria_url = 'https://journals.plos.org/plosone/article/file?id=10.1371/journal.pone.0058972.g003&type=large'\n",
    "# it's name and the name of the cellpose generated labels (masks) image\n",
    "image_name = \"bacteria\"\n",
    "label_name = image_name+\"_cp_masks\"\n",
    "# and their path\n",
    "bacteria_path = data_path +image_name+\".png\"\n",
    "bacteria_labels_path = data_path +label_name+\".png\""
   ]
  },
  {
   "cell_type": "code",
   "execution_count": 8,
   "id": "ce5c8b72",
   "metadata": {},
   "outputs": [],
   "source": [
    "# read the image from the url\n",
    "bacteria_image = imread(bacteria_url)\n",
    "# we'll just just a crop of it \n",
    "bacteria_image = bacteria_image[394:700 , 950:1400]\n",
    "# and save it in the data folder\n",
    "imsave(bacteria_path , bacteria_image) "
   ]
  },
  {
   "cell_type": "code",
   "execution_count": 9,
   "id": "c7993917",
   "metadata": {},
   "outputs": [
    {
     "name": "stdout",
     "output_type": "stream",
     "text": [
      "2021-11-19 11:28:56,576 [INFO] WRITING LOG OUTPUT TO /home/jovyan/.cellpose/run.log\n",
      "2021-11-19 11:28:58,441 [INFO] ** TORCH CUDA version installed and working. **\n",
      "2021-11-19 11:28:58,442 [INFO] >>>> using GPU\n",
      "2021-11-19 11:28:58,442 [INFO] >>>> Omnipose enabled. See https://raw.githubusercontent.com/MouseLand/cellpose/master/cellpose/omnipose/license.txt for licensing details.\n",
      "2021-11-19 11:28:58,443 [INFO] >>>> running cellpose on 1 images using chan_to_seg RED and chan (opt) NONE\n",
      "2021-11-19 11:28:58,444 [INFO] >>>> omni is 1, cluster is 0\n",
      "2021-11-19 11:28:58,681 [INFO] >>>> using diameter 30.00 for all images\n",
      "2021-11-19 11:28:58,682 [INFO] 0%|          | 0/1 [00:00<?, ?it/s]\n",
      "2021-11-19 11:29:01,004 [INFO] 100%|##########| 1/1 [00:02<00:00,  2.32s/it]\n",
      "2021-11-19 11:29:01,005 [INFO] 100%|##########| 1/1 [00:02<00:00,  2.32s/it]\n",
      "2021-11-19 11:29:01,005 [INFO] >>>> completed in 2.563 sec\n"
     ]
    }
   ],
   "source": [
    "# here we just start the cellpose command \n",
    "# using the  bact_omni model\n",
    "!cellpose --dir $data_path --pretrained_model bact_omni --omni --chan 1 --chan2 0 --use_gpu --resample  --save_png"
   ]
  },
  {
   "cell_type": "code",
   "execution_count": 10,
   "id": "f0f4aca7",
   "metadata": {},
   "outputs": [],
   "source": [
    "# load the newly created image\n",
    "bacteria_labels = imread(bacteria_labels_path)"
   ]
  },
  {
   "cell_type": "code",
   "execution_count": 11,
   "id": "9aa1cb9b",
   "metadata": {},
   "outputs": [
    {
     "name": "stderr",
     "output_type": "stream",
     "text": [
      "WARNING: QStandardPaths: XDG_RUNTIME_DIR not set, defaulting to '/tmp/runtime-jovyan'\n"
     ]
    },
    {
     "data": {
      "text/plain": [
       "<Labels layer 'bacteria_labels' at 0x7fba08993490>"
      ]
     },
     "execution_count": 11,
     "metadata": {},
     "output_type": "execute_result"
    }
   ],
   "source": [
    "# if you're running this notebook from the VNC you can display in napari\n",
    "viewer = napari.Viewer()\n",
    "viewer.add_image(bacteria_image)\n",
    "viewer.add_labels(bacteria_labels)"
   ]
  },
  {
   "cell_type": "code",
   "execution_count": null,
   "id": "3bf77ad4",
   "metadata": {},
   "outputs": [],
   "source": []
  }
 ],
 "metadata": {
  "kernelspec": {
   "display_name": "py37",
   "language": "python",
   "name": "py37"
  },
  "language_info": {
   "codemirror_mode": {
    "name": "ipython",
    "version": 3
   },
   "file_extension": ".py",
   "mimetype": "text/x-python",
   "name": "python",
   "nbconvert_exporter": "python",
   "pygments_lexer": "ipython3",
   "version": "3.7.12"
  }
 },
 "nbformat": 4,
 "nbformat_minor": 5
}
