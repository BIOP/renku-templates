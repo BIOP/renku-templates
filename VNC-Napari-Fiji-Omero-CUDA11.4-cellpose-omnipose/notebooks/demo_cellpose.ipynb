{
 "cells": [
  {
   "cell_type": "markdown",
   "id": "c052b803",
   "metadata": {},
   "source": [
    "# Minimal cellpose / omnipose demo on HeLa cells\n",
    "\n",
    "In this notebook we will \n",
    "- Download and image of HeLa cells stained with HCS cellmask [ https://www.thermofisher.com/order/catalog/product/H32721 ]\n",
    "- Segment cells on this image (eg create labels) using cellpose and omnipose [http://www.cellpose.org/omnipose ]\n",
    "- Display the image and its labels in napari.\n"
   ]
  },
  {
   "cell_type": "markdown",
   "id": "aa43c621",
   "metadata": {},
   "source": [
    "To do so, you should open this notebook from the VNC (new launcher > VNC , and a RENKU desktop should pop-up).\n",
    "\n",
    "In the RENKU deskstop, you can start a terminal, type 'jupyter notebook', open this notebook!"
   ]
  },
  {
   "cell_type": "code",
   "execution_count": 10,
   "id": "34a01c34",
   "metadata": {},
   "outputs": [],
   "source": [
    "# we need to import some packages\n",
    "from skimage.io import imread , imsave\n",
    "import napari"
   ]
  },
  {
   "cell_type": "code",
   "execution_count": 11,
   "id": "d3467545",
   "metadata": {},
   "outputs": [],
   "source": [
    "# define the path to the data folder\n",
    "data_path = '../data/'\n",
    "# define the url of an image that we'll use\n",
    "image_url = 'https://assets.thermofisher.com/TFS-Assets/LSG/figures/Autophagy%20anti-LC3B%20image%201.jpg-650.jpg'\n",
    "# it's name and the name of the cellpose generated labels (masks) image\n",
    "image_name = \"HCS_cellmask\"\n",
    "label_name = image_name+\"_cp_masks\"\n",
    "# and their path\n",
    "image_path = data_path +image_name+\".png\"\n",
    "image_labels_path = data_path +label_name+\".png\""
   ]
  },
  {
   "cell_type": "code",
   "execution_count": 12,
   "id": "d21301f2",
   "metadata": {},
   "outputs": [],
   "source": [
    "# read the image from the url\n",
    "image = imread(image_url)\n",
    "# we'll just just a crop of it \n",
    "#bacteria_image = bacteria_image[394:700 , 950:1400]\n",
    "# and save it in the data folder\n",
    "imsave(image_path , image) "
   ]
  },
  {
   "cell_type": "code",
   "execution_count": 13,
   "id": "bd258369",
   "metadata": {},
   "outputs": [
    {
     "name": "stdout",
     "output_type": "stream",
     "text": [
      "2021-11-19 11:27:51,578 [INFO] WRITING LOG OUTPUT TO /home/jovyan/.cellpose/run.log\n",
      "2021-11-19 11:27:53,360 [INFO] ** TORCH CUDA version installed and working. **\n",
      "2021-11-19 11:27:53,360 [INFO] >>>> using GPU\n",
      "2021-11-19 11:27:53,362 [INFO] >>>> running cellpose on 1 images using chan_to_seg RED and chan (opt) BLUE\n",
      "2021-11-19 11:27:53,362 [INFO] >>>> omni is 0, cluster is 0\n",
      "2021-11-19 11:27:53,363 [INFO] ** TORCH CUDA version installed and working. **\n",
      "2021-11-19 11:27:53,363 [INFO] >>>> using GPU\n",
      "2021-11-19 11:27:53,477 [INFO] >>>> using diameter 100.00 for all images\n",
      "2021-11-19 11:27:53,478 [INFO] 0%|          | 0/1 [00:00<?, ?it/s]\n",
      "2021-11-19 11:27:53,490 [INFO] ~~~ FINDING MASKS ~~~\n",
      "2021-11-19 11:27:57,017 [INFO] >>>> TOTAL TIME 3.53 sec\n",
      "2021-11-19 11:27:58,770 [INFO] 100%|##########| 1/1 [00:05<00:00,  5.29s/it]\n",
      "2021-11-19 11:27:58,770 [INFO] 100%|##########| 1/1 [00:05<00:00,  5.29s/it]\n",
      "2021-11-19 11:27:58,770 [INFO] >>>> completed in 5.410 sec\n"
     ]
    }
   ],
   "source": [
    "# here we just start the cellpose command \n",
    "# using the  bact_omni model\n",
    "! cellpose --dir $data_path --pretrained_model cyto2 --chan 1 --chan2 3 --diameter 100 --use_gpu --resample  --save_png"
   ]
  },
  {
   "cell_type": "code",
   "execution_count": 14,
   "id": "f0f4aca7",
   "metadata": {},
   "outputs": [],
   "source": [
    "# load the newly created image\n",
    "image_labels = imread(image_labels_path)\n"
   ]
  },
  {
   "cell_type": "code",
   "execution_count": 15,
   "id": "9aa1cb9b",
   "metadata": {},
   "outputs": [
    {
     "data": {
      "text/plain": [
       "<Labels layer 'labels-cyto2 model' at 0x7f5c4d680850>"
      ]
     },
     "execution_count": 15,
     "metadata": {},
     "output_type": "execute_result"
    }
   ],
   "source": [
    "# if you're running this notebook from the VNC you can display in napari\n",
    "viewer = napari.Viewer()\n",
    "viewer.add_image(image)\n",
    "viewer.add_labels(image_labels, name=\"labels-cyto2 model\")"
   ]
  },
  {
   "cell_type": "markdown",
   "id": "b4051dac",
   "metadata": {},
   "source": [
    "Let's try cyto2_omni model"
   ]
  },
  {
   "cell_type": "code",
   "execution_count": 16,
   "id": "89599661",
   "metadata": {},
   "outputs": [
    {
     "name": "stdout",
     "output_type": "stream",
     "text": [
      "2021-11-19 11:28:11,452 [INFO] WRITING LOG OUTPUT TO /home/jovyan/.cellpose/run.log\n",
      "2021-11-19 11:28:13,267 [INFO] ** TORCH CUDA version installed and working. **\n",
      "2021-11-19 11:28:13,267 [INFO] >>>> using GPU\n",
      "2021-11-19 11:28:13,268 [INFO] >>>> Omnipose enabled. See https://raw.githubusercontent.com/MouseLand/cellpose/master/cellpose/omnipose/license.txt for licensing details.\n",
      "2021-11-19 11:28:13,269 [INFO] >>>> running cellpose on 1 images using chan_to_seg RED and chan (opt) BLUE\n",
      "2021-11-19 11:28:13,269 [INFO] >>>> omni is 1, cluster is 0\n",
      "2021-11-19 11:28:13,270 [INFO] ** TORCH CUDA version installed and working. **\n",
      "2021-11-19 11:28:13,270 [INFO] >>>> using GPU\n",
      "2021-11-19 11:28:13,519 [INFO] >>>> using diameter 150.00 for all images\n",
      "2021-11-19 11:28:13,520 [INFO] 0%|          | 0/1 [00:00<?, ?it/s]\n",
      "2021-11-19 11:28:13,523 [INFO] ~~~ FINDING MASKS ~~~\n",
      "2021-11-19 11:28:15,011 [INFO] No cell pixels found.\n",
      "2021-11-19 11:28:15,011 [INFO] 0%|          | 0/1 [00:01<?, ?it/s]\n",
      "Traceback (most recent call last):\n",
      "  File \"/opt/conda/envs/py37/bin/cellpose\", line 8, in <module>\n",
      "    sys.exit(main())\n",
      "  File \"/opt/conda/envs/py37/lib/python3.7/site-packages/cellpose/__main__.py\", line 313, in main\n",
      "    verbose=args.verbose)\n",
      "  File \"/opt/conda/envs/py37/lib/python3.7/site-packages/cellpose/models.py\", line 304, in eval\n",
      "    transparency=transparency)\n",
      "  File \"/opt/conda/envs/py37/lib/python3.7/site-packages/cellpose/models.py\", line 633, in eval\n",
      "    verbose=verbose)\n",
      "  File \"/opt/conda/envs/py37/lib/python3.7/site-packages/cellpose/models.py\", line 736, in _run_cp\n",
      "    nclasses=self.nclasses)\n",
      "  File \"/opt/conda/envs/py37/lib/python3.7/site-packages/cellpose/dynamics.py\", line 908, in compute_masks\n",
      "    mask = utils.fill_holes_and_remove_small_masks(mask, min_size=min_size)\n",
      "  File \"/opt/conda/envs/py37/lib/python3.7/site-packages/cellpose/utils.py\", line 440, in fill_holes_and_remove_small_masks\n",
      "    raise ValueError('masks_to_outlines takes 2D or 3D array, not %dD array'%masks.ndim)\n",
      "ValueError: masks_to_outlines takes 2D or 3D array, not 0D array\n"
     ]
    }
   ],
   "source": [
    "# here we just start the cellpose command \n",
    "# using the  bact_omni model\n",
    "!cellpose --dir $data_path --pretrained_model cyto2_omni --omni  --chan 1 --chan2 3 --diameter 150 --use_gpu --resample  --save_png"
   ]
  },
  {
   "cell_type": "code",
   "execution_count": null,
   "id": "ff0d9db6",
   "metadata": {},
   "outputs": [],
   "source": [
    "# load the newly created image\n",
    "image_labels = imread(image_labels_path)\n",
    "viewer.add_labels(image_labels , name=\"labels-cyto2omni model\")"
   ]
  },
  {
   "cell_type": "code",
   "execution_count": null,
   "id": "b06f741e",
   "metadata": {},
   "outputs": [],
   "source": []
  }
 ],
 "metadata": {
  "kernelspec": {
   "display_name": "py37",
   "language": "python",
   "name": "py37"
  },
  "language_info": {
   "codemirror_mode": {
    "name": "ipython",
    "version": 3
   },
   "file_extension": ".py",
   "mimetype": "text/x-python",
   "name": "python",
   "nbconvert_exporter": "python",
   "pygments_lexer": "ipython3",
   "version": "3.7.12"
  }
 },
 "nbformat": 4,
 "nbformat_minor": 5
}
